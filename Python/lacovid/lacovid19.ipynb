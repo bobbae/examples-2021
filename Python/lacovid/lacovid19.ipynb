{
 "cells": [
  {
   "cell_type": "code",
   "execution_count": 1,
   "metadata": {},
   "outputs": [
    {
     "data": {
      "text/plain": [
       "'3.7.7'"
      ]
     },
     "execution_count": 1,
     "metadata": {},
     "output_type": "execute_result"
    }
   ],
   "source": [
    "# Settings for notebook\n",
    "from IPython.core.interactiveshell import InteractiveShell\n",
    "InteractiveShell.ast_node_interactivity = \"all\"\n",
    "# Show Python version\n",
    "import platform\n",
    "platform.python_version()"
   ]
  },
  {
   "cell_type": "code",
   "execution_count": 2,
   "metadata": {},
   "outputs": [],
   "source": [
    "try:\n",
    "    import scrapy\n",
    "except:\n",
    "    !pip3 install scrapy\n",
    "    import scrapy\n",
    "from scrapy.crawler import CrawlerProcess"
   ]
  },
  {
   "cell_type": "code",
   "execution_count": 3,
   "metadata": {},
   "outputs": [],
   "source": [
    "import json\n",
    "import logging\n",
    "\n",
    "class QuotesSpider(scrapy.Spider):\n",
    "    name = \"quotes\"\n",
    "    start_urls = [\n",
    "        'http://www.ph.lacounty.gov/media/Coronavirus/locations.htm'\n",
    "    ]\n",
    "    custom_settings = {\n",
    "        'LOG_LEVEL': logging.WARNING,\n",
    "        'FEED_FORMAT':'json',                                 # Used for pipeline 2\n",
    "        'FEED_URI': 'quoteresult.json'                        # Used for pipeline 2\n",
    "    }\n",
    "    \n",
    "    def parse(self, response):\n",
    "        cities = response.xpath('//table/tr/td[1]').extract()\n",
    "        cases = response.xpath('//table/tr/td[2]').extract()\n",
    "        rates = response.xpath('//table/tr/td[3]').extract()\n",
    "        cities = list(map(lambda x: x.replace('<td>','').replace('</td>',''), cities))\n",
    "        cases = list(map(lambda x: x.replace('<td>','').replace('</td>',''), cases))\n",
    "        rates = list(map(lambda x: x.replace('<td>','').replace('</td>',''), rates))\n",
    "        alist=[]\n",
    "        lacitiesdata = { \"lacitiescovid\": alist }\n",
    "        i = 0\n",
    "        for city in cities:\n",
    "            arec = { 'city': city, 'cases': cases[i] , 'rate':rates[i]}\n",
    "            i=i+1\n",
    "            alist.append(arec)\n",
    "        with open('lacovidinfo.json', 'w') as jsonfile:\n",
    "            print(json.dump(lacitiesdata, jsonfile, indent=4))\n"
   ]
  },
  {
   "cell_type": "code",
   "execution_count": 4,
   "metadata": {},
   "outputs": [
    {
     "name": "stderr",
     "output_type": "stream",
     "text": [
      "2020-05-28 21:16:36 [scrapy.utils.log] INFO: Scrapy 1.8.0 started (bot: scrapybot)\n",
      "2020-05-28 21:16:36 [scrapy.utils.log] INFO: Versions: lxml 4.5.0.0, libxml2 2.9.10, cssselect 1.1.0, parsel 1.5.2, w3lib 1.21.0, Twisted 20.3.0, Python 3.7.7 (default, Mar 11 2020, 09:39:49) - [GCC 5.4.0 20160609], pyOpenSSL 19.1.0 (OpenSSL 1.1.1d  10 Sep 2019), cryptography 2.8, Platform Linux-4.19.84-microsoft-standard-x86_64-with-debian-buster-sid\n",
      "2020-05-28 21:16:36 [scrapy.crawler] INFO: Overridden settings: {'FEED_FORMAT': 'json', 'FEED_URI': 'quoteresult.json', 'LOG_LEVEL': 30, 'USER_AGENT': 'Mozilla/4.0 (compatible; MSIE 7.0; Windows NT 5.1)'}\n"
     ]
    },
    {
     "data": {
      "text/plain": [
       "<Deferred at 0x7f79db5bd190>"
      ]
     },
     "execution_count": 4,
     "metadata": {},
     "output_type": "execute_result"
    },
    {
     "name": "stdout",
     "output_type": "stream",
     "text": [
      "None\n"
     ]
    }
   ],
   "source": [
    "process = CrawlerProcess({\n",
    "    'USER_AGENT': 'Mozilla/4.0 (compatible; MSIE 7.0; Windows NT 5.1)'\n",
    "})\n",
    "\n",
    "process.crawl(QuotesSpider)\n",
    "process.start()\n"
   ]
  },
  {
   "cell_type": "code",
   "execution_count": 5,
   "metadata": {},
   "outputs": [],
   "source": [
    "import pandas as pd\n",
    "\n",
    "def is_number(s):\n",
    "    try:\n",
    "        float(s)\n",
    "        return True\n",
    "    except ValueError:\n",
    "        return False\n",
    "\n",
    "res = pd.read_json('lacovidinfo.json')\n",
    "#with pd.option_context('display.max_rows', None, 'display.max_columns', None): \n",
    "#    print(res)"
   ]
  },
  {
   "cell_type": "code",
   "execution_count": 6,
   "metadata": {},
   "outputs": [
    {
     "name": "stdout",
     "output_type": "stream",
     "text": [
      "[{'asian': 0.12547926106657373}, {'black': 0.13002114164904863}, {'latino': 0.04928021026223045}, {'white': 0.10476865803935473}]\n",
      "[{'asian': 2869}, {'black': 1892}, {'latino': 16741}, {'white': 5641}]\n"
     ]
    }
   ],
   "source": [
    "x=res.to_dict('record')\n",
    "deathrates=[]\n",
    "infections=[]\n",
    "y=x[27]['lacitiescovid']\n",
    "infected= int(y['cases'])\n",
    "y=x[41]['lacitiescovid']\n",
    "deaths = int(y['cases'])\n",
    "\n",
    "deathrates.append( { 'asian':deaths/infected})\n",
    "infections.append( {'asian': infected})\n",
    "\n",
    "y=x[28]['lacitiescovid']\n",
    "infected= int(y['cases'])\n",
    "y=x[42]['lacitiescovid']\n",
    "deaths = int(y['cases'])\n",
    "\n",
    "deathrates.append( { 'black':deaths/infected})\n",
    "infections.append( {'black': infected})\n",
    "\n",
    "y=x[29]['lacitiescovid']\n",
    "infected= int(y['cases'])\n",
    "y=x[43]['lacitiescovid']\n",
    "deaths = int(y['cases'])\n",
    "\n",
    "deathrates.append( { 'latino':deaths/infected})\n",
    "infections.append( {'latino': infected})\n",
    "\n",
    "y=x[31]['lacitiescovid']\n",
    "infected= int(y['cases'])\n",
    "y=x[45]['lacitiescovid']\n",
    "deaths = int(y['cases'])\n",
    "\n",
    "deathrates.append( { 'white':deaths/infected})\n",
    "infections.append( {'white': infected})\n",
    "\n",
    "\n",
    "print(deathrates)\n",
    "print(infections)"
   ]
  },
  {
   "cell_type": "code",
   "execution_count": 7,
   "metadata": {},
   "outputs": [
    {
     "name": "stdout",
     "output_type": "stream",
     "text": [
      "[{'asian': 1347782}, {'black': 844048}, {'latino': 4644328}, {'white': 5126367}]\n",
      "asian infection rate 0.21286825317447478\n",
      "black infection rate 0.22415786779898775\n",
      "latino infection rate 0.36046119051023096\n",
      "white infection rate 0.110038941808107\n"
     ]
    }
   ],
   "source": [
    "# among latino population the survival rate is higher 0.049 vs. 0.12 (asian) and 0.13 (black)\n",
    "# asians' high death rate may be due to older infected patients\n",
    "# black may be unfairly impacted due to lack of care and hospitalizations, but it is not clear.\n",
    "# from https://en.wikipedia.org/wiki/Demographics_of_Los_Angeles_County\n",
    "\n",
    "demographics = []\n",
    "\n",
    "demographics.append( {'asian': 1347782})\n",
    "demographics.append( {'black': 844048})\n",
    "demographics.append( {'latino': 4644328})\n",
    "demographics.append( {'white': 5126367})\n",
    "\n",
    "print(demographics)\n",
    "print('asian infection rate',infections[0]['asian']/demographics[0]['asian']*100)\n",
    "print('black infection rate',infections[1]['black']/demographics[1]['black']*100)\n",
    "print('latino infection rate',infections[2]['latino']/demographics[2]['latino']*100)\n",
    "print('white infection rate',infections[3]['white']/demographics[3]['white']*100)\n"
   ]
  },
  {
   "cell_type": "code",
   "execution_count": 8,
   "metadata": {},
   "outputs": [],
   "source": [
    "# the latino folks are disproportionately affected and infected at 3 times the rate of whites.  \n",
    "# They also recover better, with survival rate of 0.049.  Most likely younger population\n",
    "# of latinos that are critical workers who are impacted far more than others.\n",
    "#\n",
    "# asian and black communities are infected more or less proportionately.  \n",
    "# White are much less affected in comparison."
   ]
  },
  {
   "cell_type": "code",
   "execution_count": 9,
   "metadata": {},
   "outputs": [
    {
     "name": "stdout",
     "output_type": "stream",
     "text": [
      "                                      city  cases     rate\n",
      "0            Los Angeles - Adams-Normandie   51.0   621.80\n",
      "1                     Los Angeles - Alsace   47.0   377.66\n",
      "2    Los Angeles - Angeles National Forest    0.0     0.00\n",
      "3           Los Angeles - Angelino Heights   16.0   639.49\n",
      "4                     Los Angeles - Arleta  271.0   788.48\n",
      "5            Los Angeles - Atwater Village   51.0   347.74\n",
      "6              Los Angeles - Baldwin Hills  162.0   520.48\n",
      "7                    Los Angeles - Bel Air   35.0   415.23\n",
      "8              Los Angeles - Beverly Crest   37.0   295.41\n",
      "9                Los Angeles - Beverlywood   37.0   280.88\n",
      "10            Los Angeles - Boyle Heights*  653.0   751.58\n",
      "11                 Los Angeles - Brentwood   78.0   251.98\n",
      "12                 Los Angeles - Brookside    0.0     0.00\n",
      "13          Los Angeles - Cadillac-Corning   29.0   407.25\n",
      "14               Los Angeles - Canoga Park  486.0   744.38\n",
      "15                   Los Angeles - Carthay   77.0   536.10\n",
      "16                   Los Angeles - Central  389.0   997.64\n",
      "17              Los Angeles - Century City   33.0   257.97\n",
      "18        Los Angeles - Century Palms/Cove  247.0   731.51\n",
      "19                Los Angeles - Chatsworth  184.0   496.48\n",
      "20             Los Angeles - Cheviot Hills   21.0   228.98\n",
      "21                 Los Angeles - Chinatown   21.0   261.81\n",
      "22        Los Angeles - Cloverdale/Cochran   61.0   419.16\n",
      "23         Los Angeles - Country Club Park   94.0   620.34\n",
      "24         Los Angeles - Crenshaw District   68.0   491.72\n",
      "25                 Los Angeles - Crestview   87.0   765.31\n",
      "26                   Los Angeles - Del Rey   74.0   247.19\n",
      "27                 Los Angeles - Downtown*  137.0   498.06\n",
      "28                Los Angeles - Eagle Rock  172.0   434.46\n",
      "29            Los Angeles - East Hollywood  221.0   754.60\n",
      "30                 Los Angeles - Echo Park   44.0   308.64\n",
      "31                 Los Angeles - El Sereno  160.0   382.70\n",
      "32              Los Angeles - Elysian Park   16.0   280.11\n",
      "33            Los Angeles - Elysian Valley   55.0   540.75\n",
      "34                    Los Angeles - Encino  124.0   274.51\n",
      "35                Los Angeles - Exposition    9.0   270.60\n",
      "36           Los Angeles - Exposition Park  240.0   534.32\n",
      "37         Los Angeles - Faircrest Heights    4.0   111.11\n",
      "38      Los Angeles - Figueroa Park Square   37.0   424.26\n",
      "39        Los Angeles - Florence-Firestone  371.0   781.96\n",
      "40             Los Angeles - Glassell Park  181.0   572.71\n",
      "41            Los Angeles - Gramercy Place   66.0   613.15\n",
      "42             Los Angeles - Granada Hills  312.0   536.17\n",
      "43             Los Angeles - Green Meadows  157.0   730.06\n",
      "44              Los Angeles - Hancock Park   79.0   463.64\n",
      "45               Los Angeles - Harbor City   93.0   319.92\n",
      "46            Los Angeles - Harbor Gateway  131.0   300.46\n",
      "47              Los Angeles - Harbor Pines    9.0   373.60\n",
      "48           Los Angeles - Harvard Heights  130.0   720.82\n",
      "49              Los Angeles - Harvard Park  293.0   772.37\n",
      "50             Los Angeles - Highland Park  194.0   400.90\n",
      "51     Los Angeles - Historic Filipinotown  131.0   944.48\n",
      "52                 Los Angeles - Hollywood  268.0   392.65\n",
      "53           Los Angeles - Hollywood Hills   81.0   275.19\n",
      "54                 Los Angeles - Hyde Park  141.0   494.03\n",
      "55            Los Angeles - Jefferson Park   38.0   470.70\n",
      "56                 Los Angeles - Koreatown  265.0   512.64\n",
      "57          Los Angeles - Lafayette Square   18.0   394.82\n",
      "58               Los Angeles - Lake Balboa  197.0   466.76\n",
      "59          Los Angeles - Lakeview Terrace  108.0   822.36\n",
      "60              Los Angeles - Leimert Park   56.0   367.57\n",
      "61           Los Angeles - Lincoln Heights  231.0   708.65\n",
      "62            Los Angeles - Little Armenia  191.0  2380.06\n",
      "63         Los Angeles - Little Bangladesh  129.0   455.14\n",
      "64              Los Angeles - Little Tokyo   17.0   542.61\n",
      "65                  Los Angeles - Longwood   21.0   487.92\n",
      "66                 Los Angeles - Los Feliz   51.0   236.02\n",
      "67         Los Angeles - Manchester Square   19.0   222.59\n",
      "68         Los Angeles - Mandeville Canyon    1.0    32.01\n",
      "69                 Los Angeles - Mar Vista   80.0   188.36\n",
      "70          Los Angeles - Marina Peninsula   12.0   275.23\n",
      "71                   Los Angeles - Melrose  545.0   701.45\n",
      "72                  Los Angeles - Mid-city   56.0   372.59\n",
      "73              Los Angeles - Miracle Mile   41.0   227.97\n",
      "74             Los Angeles - Mission Hills  144.0   596.92\n",
      "75            Los Angeles - Mt. Washington  102.0   422.45\n",
      "76               Los Angeles - North Hills  433.0   703.21\n",
      "77           Los Angeles - North Hollywood  669.0   441.81\n",
      "78                Los Angeles - Northridge  321.0   459.91\n",
      "79         Los Angeles - Pacific Palisades   55.0   258.33\n",
      "80                   Los Angeles - Pacoima  686.0   891.15\n",
      "81       Los Angeles - Palisades Highlands    3.0    78.00\n",
      "82                     Los Angeles - Palms  188.0   428.47\n",
      "83             Los Angeles - Panorama City  731.0   971.43\n",
      "84              Los Angeles - Park La Brea   19.0   139.91\n",
      "85                Los Angeles - Pico-Union  531.0  1269.06\n",
      "86             Los Angeles - Playa Del Rey    3.0    93.87\n",
      "87               Los Angeles - Playa Vista   23.0   210.10\n",
      "88              Los Angeles - Porter Ranch   89.0   250.08\n",
      "89               Los Angeles - Rancho Park   18.0   274.39\n",
      "90             Los Angeles - Regent Square    4.0   143.88\n",
      "91                    Los Angeles - Reseda  544.0   710.03\n",
      "92              Los Angeles - Reseda Ranch   31.0   668.68\n",
      "93           Los Angeles - Reynier Village   10.0   236.52\n",
      "94                Los Angeles - San Pedro*  893.0  1144.31\n",
      "95              Los Angeles - Shadow Hills   11.0   247.64\n",
      "96              Los Angeles - Sherman Oaks  224.0   256.72\n",
      "97                Los Angeles - Silverlake  176.0   399.25\n",
      "98             Los Angeles - South Carthay   35.0   330.34\n",
      "99                Los Angeles - South Park  369.0   972.05\n",
      "100          Los Angeles - St Elmo Village   44.0   959.86\n",
      "101              Los Angeles - Studio City   77.0   343.14\n",
      "102               Los Angeles - Sun Valley  293.0   558.28\n",
      "103                  Los Angeles - Sunland  146.0   715.41\n",
      "104          Los Angeles - Sycamore Square    1.0   154.56\n",
      "105                  Los Angeles - Sylmar*  772.0   936.92\n",
      "106                  Los Angeles - Tarzana  160.0   518.20\n",
      "107           Los Angeles - Temple-Beaudry  312.0   790.23\n",
      "108                Los Angeles - Thai Town   30.0   305.84\n",
      "109              Los Angeles - Toluca Lake   19.0   218.29\n",
      "110           Los Angeles - Toluca Terrace    6.0   459.42\n",
      "111             Los Angeles - Toluca Woods    3.0   161.46\n",
      "112                  Los Angeles - Tujunga  121.0   435.10\n",
      "113         Los Angeles - University Hills   11.0   320.79\n",
      "114          Los Angeles - University Park  180.0   655.59\n",
      "115              Los Angeles - Valley Glen  127.0   423.11\n",
      "116           Los Angeles - Valley Village  207.0   837.38\n",
      "117                 Los Angeles - Van Nuys  674.0   723.22\n",
      "118                   Los Angeles - Venice   65.0   191.83\n",
      "119           Los Angeles - Vermont Knolls  140.0   813.95\n",
      "120           Los Angeles - Vermont Square   84.0  1097.04\n",
      "121            Los Angeles - Vermont Vista  310.0   752.68\n",
      "122           Los Angeles - Vernon Central  584.0  1123.12\n",
      "123            Los Angeles - Victoria Park   57.0   678.65\n",
      "124             Los Angeles - View Heights    9.0   243.64\n",
      "125                    Los Angeles - Watts  281.0   658.48\n",
      "126        Los Angeles - Wellington Square   21.0   427.26\n",
      "127               Los Angeles - West Adams  207.0   749.19\n",
      "128               Los Angeles - West Hills  133.0   328.03\n",
      "129         Los Angeles - West Los Angeles   79.0   209.91\n",
      "130              Los Angeles - West Vernon  441.0   822.09\n",
      "131              Los Angeles - Westchester   92.0   178.28\n",
      "132                 Los Angeles - Westlake  703.0  1184.40\n",
      "133                 Los Angeles - Westwood   67.0   123.82\n",
      "134      Los Angeles - Wholesale District*  661.0  1829.56\n",
      "135               Los Angeles - Wilmington  231.0   408.94\n",
      "136          Los Angeles - Wilshire Center  232.0   462.43\n",
      "137                 Los Angeles - Winnetka  283.0   546.48\n",
      "138           Los Angeles - Woodland Hills  157.0   230.70\n"
     ]
    }
   ],
   "source": [
    "lcc = res.lacitiescovid\n",
    "alist = []\n",
    "llist = []\n",
    "for x in lcc:\n",
    "    if x['cases'] == '' or  x['cases'] == '--': \n",
    "        continue\n",
    "    if x['rate'] == '--' or x['rate'] == '':\n",
    "        continue\n",
    "    if not is_number(x['cases']):\n",
    "        continue\n",
    "    if not is_number(x['rate']):\n",
    "        continue\n",
    "    anent = { 'city': x['city'], 'cases': float(x['cases']), 'rate': float(x['rate'])}\n",
    "    alist.append(anent)\n",
    "    if not x['city'].startswith('Los Angeles - '):\n",
    "        continue\n",
    "    llist.append(anent)\n",
    "adf = pd.DataFrame(alist)\n",
    "ldf = pd.DataFrame(llist)\n",
    "with pd.option_context('display.max_rows', None, 'display.max_columns', None): \n",
    "    print(ldf)"
   ]
  },
  {
   "cell_type": "code",
   "execution_count": 10,
   "metadata": {},
   "outputs": [
    {
     "data": {
      "text/plain": [
       "<matplotlib.axes._subplots.AxesSubplot at 0x7f79b85a8610>"
      ]
     },
     "execution_count": 10,
     "metadata": {},
     "output_type": "execute_result"
    },
    {
     "data": {
      "image/png": "[encoded data removed]",
      "text/plain": [
       "<Figure size 1080x360 with 1 Axes>"
      ]
     },
     "metadata": {
      "needs_background": "light"
     },
     "output_type": "display_data"
    }
   ],
   "source": [
    "ldf[:30].plot(kind='bar', x='city', y='cases', figsize=(15,5))"
   ]
  },
  {
   "cell_type": "code",
   "execution_count": 11,
   "metadata": {},
   "outputs": [
    {
     "data": {
      "text/plain": [
       "<matplotlib.axes._subplots.AxesSubplot at 0x7f79b59aef90>"
      ]
     },
     "execution_count": 11,
     "metadata": {},
     "output_type": "execute_result"
    },
    {
     "data": {
      "image/png": "[encoded data removed]",
      "text/plain": [
       "<Figure size 1080x360 with 1 Axes>"
      ]
     },
     "metadata": {
      "needs_background": "light"
     },
     "output_type": "display_data"
    }
   ],
   "source": [
    "ldf.sort_values(by='cases', ascending=False)[:30].plot(kind='bar', x='city', y='cases', figsize=(15,5))"
   ]
  },
  {
   "cell_type": "code",
   "execution_count": 12,
   "metadata": {},
   "outputs": [
    {
     "name": "stdout",
     "output_type": "stream",
     "text": [
      "                                      city  cases     rate\n",
      "62            Los Angeles - Little Armenia  191.0  2380.06\n",
      "134      Los Angeles - Wholesale District*  661.0  1829.56\n",
      "85                Los Angeles - Pico-Union  531.0  1269.06\n",
      "132                 Los Angeles - Westlake  703.0  1184.40\n",
      "94                Los Angeles - San Pedro*  893.0  1144.31\n",
      "122           Los Angeles - Vernon Central  584.0  1123.12\n",
      "120           Los Angeles - Vermont Square   84.0  1097.04\n",
      "16                   Los Angeles - Central  389.0   997.64\n",
      "99                Los Angeles - South Park  369.0   972.05\n",
      "83             Los Angeles - Panorama City  731.0   971.43\n",
      "100          Los Angeles - St Elmo Village   44.0   959.86\n",
      "51     Los Angeles - Historic Filipinotown  131.0   944.48\n",
      "105                  Los Angeles - Sylmar*  772.0   936.92\n",
      "80                   Los Angeles - Pacoima  686.0   891.15\n",
      "116           Los Angeles - Valley Village  207.0   837.38\n",
      "59          Los Angeles - Lakeview Terrace  108.0   822.36\n",
      "130              Los Angeles - West Vernon  441.0   822.09\n",
      "119           Los Angeles - Vermont Knolls  140.0   813.95\n",
      "107           Los Angeles - Temple-Beaudry  312.0   790.23\n",
      "4                     Los Angeles - Arleta  271.0   788.48\n",
      "39        Los Angeles - Florence-Firestone  371.0   781.96\n",
      "49              Los Angeles - Harvard Park  293.0   772.37\n",
      "25                 Los Angeles - Crestview   87.0   765.31\n",
      "29            Los Angeles - East Hollywood  221.0   754.60\n",
      "121            Los Angeles - Vermont Vista  310.0   752.68\n",
      "10            Los Angeles - Boyle Heights*  653.0   751.58\n",
      "127               Los Angeles - West Adams  207.0   749.19\n",
      "14               Los Angeles - Canoga Park  486.0   744.38\n",
      "18        Los Angeles - Century Palms/Cove  247.0   731.51\n",
      "43             Los Angeles - Green Meadows  157.0   730.06\n",
      "117                 Los Angeles - Van Nuys  674.0   723.22\n",
      "48           Los Angeles - Harvard Heights  130.0   720.82\n",
      "103                  Los Angeles - Sunland  146.0   715.41\n",
      "91                    Los Angeles - Reseda  544.0   710.03\n",
      "61           Los Angeles - Lincoln Heights  231.0   708.65\n",
      "76               Los Angeles - North Hills  433.0   703.21\n",
      "71                   Los Angeles - Melrose  545.0   701.45\n",
      "123            Los Angeles - Victoria Park   57.0   678.65\n",
      "92              Los Angeles - Reseda Ranch   31.0   668.68\n",
      "125                    Los Angeles - Watts  281.0   658.48\n",
      "114          Los Angeles - University Park  180.0   655.59\n",
      "3           Los Angeles - Angelino Heights   16.0   639.49\n",
      "0            Los Angeles - Adams-Normandie   51.0   621.80\n",
      "23         Los Angeles - Country Club Park   94.0   620.34\n",
      "41            Los Angeles - Gramercy Place   66.0   613.15\n",
      "74             Los Angeles - Mission Hills  144.0   596.92\n",
      "40             Los Angeles - Glassell Park  181.0   572.71\n",
      "102               Los Angeles - Sun Valley  293.0   558.28\n",
      "137                 Los Angeles - Winnetka  283.0   546.48\n",
      "64              Los Angeles - Little Tokyo   17.0   542.61\n",
      "33            Los Angeles - Elysian Valley   55.0   540.75\n",
      "42             Los Angeles - Granada Hills  312.0   536.17\n",
      "15                   Los Angeles - Carthay   77.0   536.10\n",
      "36           Los Angeles - Exposition Park  240.0   534.32\n",
      "6              Los Angeles - Baldwin Hills  162.0   520.48\n",
      "106                  Los Angeles - Tarzana  160.0   518.20\n",
      "56                 Los Angeles - Koreatown  265.0   512.64\n",
      "27                 Los Angeles - Downtown*  137.0   498.06\n",
      "19                Los Angeles - Chatsworth  184.0   496.48\n",
      "54                 Los Angeles - Hyde Park  141.0   494.03\n",
      "24         Los Angeles - Crenshaw District   68.0   491.72\n",
      "65                  Los Angeles - Longwood   21.0   487.92\n",
      "55            Los Angeles - Jefferson Park   38.0   470.70\n",
      "58               Los Angeles - Lake Balboa  197.0   466.76\n",
      "44              Los Angeles - Hancock Park   79.0   463.64\n",
      "136          Los Angeles - Wilshire Center  232.0   462.43\n",
      "78                Los Angeles - Northridge  321.0   459.91\n",
      "110           Los Angeles - Toluca Terrace    6.0   459.42\n",
      "63         Los Angeles - Little Bangladesh  129.0   455.14\n",
      "77           Los Angeles - North Hollywood  669.0   441.81\n",
      "112                  Los Angeles - Tujunga  121.0   435.10\n",
      "28                Los Angeles - Eagle Rock  172.0   434.46\n",
      "82                     Los Angeles - Palms  188.0   428.47\n",
      "126        Los Angeles - Wellington Square   21.0   427.26\n",
      "38      Los Angeles - Figueroa Park Square   37.0   424.26\n",
      "115              Los Angeles - Valley Glen  127.0   423.11\n",
      "75            Los Angeles - Mt. Washington  102.0   422.45\n",
      "22        Los Angeles - Cloverdale/Cochran   61.0   419.16\n",
      "7                    Los Angeles - Bel Air   35.0   415.23\n",
      "135               Los Angeles - Wilmington  231.0   408.94\n",
      "13          Los Angeles - Cadillac-Corning   29.0   407.25\n",
      "50             Los Angeles - Highland Park  194.0   400.90\n",
      "97                Los Angeles - Silverlake  176.0   399.25\n",
      "57          Los Angeles - Lafayette Square   18.0   394.82\n",
      "52                 Los Angeles - Hollywood  268.0   392.65\n",
      "31                 Los Angeles - El Sereno  160.0   382.70\n",
      "1                     Los Angeles - Alsace   47.0   377.66\n",
      "47              Los Angeles - Harbor Pines    9.0   373.60\n",
      "72                  Los Angeles - Mid-city   56.0   372.59\n",
      "60              Los Angeles - Leimert Park   56.0   367.57\n",
      "5            Los Angeles - Atwater Village   51.0   347.74\n",
      "101              Los Angeles - Studio City   77.0   343.14\n",
      "98             Los Angeles - South Carthay   35.0   330.34\n",
      "128               Los Angeles - West Hills  133.0   328.03\n",
      "113         Los Angeles - University Hills   11.0   320.79\n",
      "45               Los Angeles - Harbor City   93.0   319.92\n",
      "30                 Los Angeles - Echo Park   44.0   308.64\n",
      "108                Los Angeles - Thai Town   30.0   305.84\n",
      "46            Los Angeles - Harbor Gateway  131.0   300.46\n",
      "8              Los Angeles - Beverly Crest   37.0   295.41\n",
      "9                Los Angeles - Beverlywood   37.0   280.88\n",
      "32              Los Angeles - Elysian Park   16.0   280.11\n",
      "70          Los Angeles - Marina Peninsula   12.0   275.23\n",
      "53           Los Angeles - Hollywood Hills   81.0   275.19\n",
      "34                    Los Angeles - Encino  124.0   274.51\n",
      "89               Los Angeles - Rancho Park   18.0   274.39\n",
      "35                Los Angeles - Exposition    9.0   270.60\n",
      "21                 Los Angeles - Chinatown   21.0   261.81\n",
      "79         Los Angeles - Pacific Palisades   55.0   258.33\n",
      "17              Los Angeles - Century City   33.0   257.97\n",
      "96              Los Angeles - Sherman Oaks  224.0   256.72\n",
      "11                 Los Angeles - Brentwood   78.0   251.98\n",
      "88              Los Angeles - Porter Ranch   89.0   250.08\n",
      "95              Los Angeles - Shadow Hills   11.0   247.64\n",
      "26                   Los Angeles - Del Rey   74.0   247.19\n",
      "124             Los Angeles - View Heights    9.0   243.64\n",
      "93           Los Angeles - Reynier Village   10.0   236.52\n",
      "66                 Los Angeles - Los Feliz   51.0   236.02\n",
      "138           Los Angeles - Woodland Hills  157.0   230.70\n",
      "20             Los Angeles - Cheviot Hills   21.0   228.98\n",
      "73              Los Angeles - Miracle Mile   41.0   227.97\n",
      "67         Los Angeles - Manchester Square   19.0   222.59\n",
      "109              Los Angeles - Toluca Lake   19.0   218.29\n",
      "87               Los Angeles - Playa Vista   23.0   210.10\n",
      "129         Los Angeles - West Los Angeles   79.0   209.91\n",
      "118                   Los Angeles - Venice   65.0   191.83\n",
      "69                 Los Angeles - Mar Vista   80.0   188.36\n",
      "131              Los Angeles - Westchester   92.0   178.28\n",
      "111             Los Angeles - Toluca Woods    3.0   161.46\n",
      "104          Los Angeles - Sycamore Square    1.0   154.56\n",
      "90             Los Angeles - Regent Square    4.0   143.88\n",
      "84              Los Angeles - Park La Brea   19.0   139.91\n",
      "133                 Los Angeles - Westwood   67.0   123.82\n",
      "37         Los Angeles - Faircrest Heights    4.0   111.11\n",
      "86             Los Angeles - Playa Del Rey    3.0    93.87\n",
      "81       Los Angeles - Palisades Highlands    3.0    78.00\n",
      "68         Los Angeles - Mandeville Canyon    1.0    32.01\n",
      "12                 Los Angeles - Brookside    0.0     0.00\n",
      "2    Los Angeles - Angeles National Forest    0.0     0.00\n"
     ]
    }
   ],
   "source": [
    "with pd.option_context('display.max_rows', None, 'display.max_columns', None): \n",
    "    print(ldf.sort_values(by='rate', ascending=False))\n"
   ]
  },
  {
   "cell_type": "code",
   "execution_count": 13,
   "metadata": {},
   "outputs": [
    {
     "data": {
      "text/plain": [
       "<matplotlib.axes._subplots.AxesSubplot at 0x7f79b5a61a90>"
      ]
     },
     "execution_count": 13,
     "metadata": {},
     "output_type": "execute_result"
    },
    {
     "data": {
      "image/png": "[encoded data removed]",
      "text/plain": [
       "<Figure size 1080x360 with 1 Axes>"
      ]
     },
     "metadata": {
      "needs_background": "light"
     },
     "output_type": "display_data"
    }
   ],
   "source": [
    "ldf.sort_values(by='rate', ascending=False)[:30].plot(kind='bar', x='city', y='rate', figsize=(15,5))"
   ]
  },
  {
   "cell_type": "code",
   "execution_count": 14,
   "metadata": {},
   "outputs": [],
   "source": [
    "import os\n",
    "import psycopg2\n",
    "\n",
    "DATABASE_URL = os.environ['DATABASE_URL']\n",
    "\n",
    "conn = psycopg2.connect(DATABASE_URL, sslmode='require')"
   ]
  },
  {
   "cell_type": "code",
   "execution_count": 15,
   "metadata": {},
   "outputs": [
    {
     "data": {
      "text/plain": [
       "[('public', 'test', 'aiixvwniavdldj', None, True, False, False, False),\n",
       " ('public', 'lacovid2', 'aiixvwniavdldj', None, True, False, False, False)]"
      ]
     },
     "execution_count": 15,
     "metadata": {},
     "output_type": "execute_result"
    }
   ],
   "source": [
    "cur = conn.cursor()\n",
    "cur.execute(\"SELECT * FROM pg_catalog.pg_tables WHERE schemaname != 'pg_catalog' AND schemaname != 'information_schema';\")\n",
    "cur.fetchall()"
   ]
  },
  {
   "cell_type": "code",
   "execution_count": 16,
   "metadata": {},
   "outputs": [],
   "source": [
    "#cur.execute(\"CREATE TABLE test (id serial PRIMARY KEY, num integer, data varchar);\")"
   ]
  },
  {
   "cell_type": "code",
   "execution_count": 17,
   "metadata": {},
   "outputs": [],
   "source": [
    "#cur.execute(\"INSERT INTO test (num, data) VALUES (%s, %s)\",(100, \"abc'def\"))"
   ]
  },
  {
   "cell_type": "code",
   "execution_count": 18,
   "metadata": {},
   "outputs": [
    {
     "data": {
      "text/plain": [
       "(1, 100, \"abc'def\")"
      ]
     },
     "execution_count": 18,
     "metadata": {},
     "output_type": "execute_result"
    }
   ],
   "source": [
    "cur.execute(\"SELECT * FROM test;\")\n",
    "cur.fetchone()"
   ]
  },
  {
   "cell_type": "code",
   "execution_count": 19,
   "metadata": {},
   "outputs": [],
   "source": [
    "cur.execute(\"DROP TABLE lacovid2;\")\n",
    "cur.execute(\"CREATE TABLE lacovid2 (id serial, city varchar PRIMARY KEY, cases float, rate float);\")"
   ]
  },
  {
   "cell_type": "code",
   "execution_count": 20,
   "metadata": {},
   "outputs": [],
   "source": [
    "for d in ldf.to_dict('records'):\n",
    "   cur.execute(\"INSERT INTO lacovid2 (city, cases, rate) VALUES (%s, %s, %s)\",(d['city'],d['cases'], d['rate']))"
   ]
  },
  {
   "cell_type": "code",
   "execution_count": 21,
   "metadata": {},
   "outputs": [
    {
     "data": {
      "text/plain": [
       "[(3, 'Los Angeles - Angeles National Forest', 0.0, 0.0),\n",
       " (13, 'Los Angeles - Brookside', 0.0, 0.0),\n",
       " (69, 'Los Angeles - Mandeville Canyon', 1.0, 32.01),\n",
       " (82, 'Los Angeles - Palisades Highlands', 3.0, 78.0),\n",
       " (87, 'Los Angeles - Playa Del Rey', 3.0, 93.87),\n",
       " (38, 'Los Angeles - Faircrest Heights', 4.0, 111.11),\n",
       " (134, 'Los Angeles - Westwood', 67.0, 123.82),\n",
       " (85, 'Los Angeles - Park La Brea', 19.0, 139.91),\n",
       " (91, 'Los Angeles - Regent Square', 4.0, 143.88),\n",
       " (105, 'Los Angeles - Sycamore Square', 1.0, 154.56),\n",
       " (112, 'Los Angeles - Toluca Woods', 3.0, 161.46),\n",
       " (132, 'Los Angeles - Westchester', 92.0, 178.28),\n",
       " (70, 'Los Angeles - Mar Vista', 80.0, 188.36),\n",
       " (119, 'Los Angeles - Venice', 65.0, 191.83),\n",
       " (130, 'Los Angeles - West Los Angeles', 79.0, 209.91),\n",
       " (88, 'Los Angeles - Playa Vista', 23.0, 210.1),\n",
       " (110, 'Los Angeles - Toluca Lake', 19.0, 218.29),\n",
       " (68, 'Los Angeles - Manchester Square', 19.0, 222.59),\n",
       " (74, 'Los Angeles - Miracle Mile', 41.0, 227.97),\n",
       " (21, 'Los Angeles - Cheviot Hills', 21.0, 228.98),\n",
       " (139, 'Los Angeles - Woodland Hills', 157.0, 230.7),\n",
       " (67, 'Los Angeles - Los Feliz', 51.0, 236.02),\n",
       " (94, 'Los Angeles - Reynier Village', 10.0, 236.52),\n",
       " (125, 'Los Angeles - View Heights', 9.0, 243.64),\n",
       " (27, 'Los Angeles - Del Rey', 74.0, 247.19),\n",
       " (96, 'Los Angeles - Shadow Hills', 11.0, 247.64),\n",
       " (89, 'Los Angeles - Porter Ranch', 89.0, 250.08),\n",
       " (12, 'Los Angeles - Brentwood', 78.0, 251.98),\n",
       " (97, 'Los Angeles - Sherman Oaks', 224.0, 256.72),\n",
       " (18, 'Los Angeles - Century City', 33.0, 257.97),\n",
       " (80, 'Los Angeles - Pacific Palisades', 55.0, 258.33),\n",
       " (22, 'Los Angeles - Chinatown', 21.0, 261.81),\n",
       " (36, 'Los Angeles - Exposition', 9.0, 270.6),\n",
       " (90, 'Los Angeles - Rancho Park', 18.0, 274.39),\n",
       " (35, 'Los Angeles - Encino', 124.0, 274.51),\n",
       " (54, 'Los Angeles - Hollywood Hills', 81.0, 275.19),\n",
       " (71, 'Los Angeles - Marina Peninsula', 12.0, 275.23),\n",
       " (33, 'Los Angeles - Elysian Park', 16.0, 280.11),\n",
       " (10, 'Los Angeles - Beverlywood', 37.0, 280.88),\n",
       " (9, 'Los Angeles - Beverly Crest', 37.0, 295.41),\n",
       " (47, 'Los Angeles - Harbor Gateway', 131.0, 300.46),\n",
       " (109, 'Los Angeles - Thai Town', 30.0, 305.84),\n",
       " (31, 'Los Angeles - Echo Park', 44.0, 308.64),\n",
       " (46, 'Los Angeles - Harbor City', 93.0, 319.92),\n",
       " (114, 'Los Angeles - University Hills', 11.0, 320.79),\n",
       " (129, 'Los Angeles - West Hills', 133.0, 328.03),\n",
       " (99, 'Los Angeles - South Carthay', 35.0, 330.34),\n",
       " (102, 'Los Angeles - Studio City', 77.0, 343.14),\n",
       " (6, 'Los Angeles - Atwater Village', 51.0, 347.74),\n",
       " (61, 'Los Angeles - Leimert Park', 56.0, 367.57),\n",
       " (73, 'Los Angeles - Mid-city', 56.0, 372.59),\n",
       " (48, 'Los Angeles - Harbor Pines', 9.0, 373.6),\n",
       " (2, 'Los Angeles - Alsace', 47.0, 377.66),\n",
       " (32, 'Los Angeles - El Sereno', 160.0, 382.7),\n",
       " (53, 'Los Angeles - Hollywood', 268.0, 392.65),\n",
       " (58, 'Los Angeles - Lafayette Square', 18.0, 394.82),\n",
       " (98, 'Los Angeles - Silverlake', 176.0, 399.25),\n",
       " (51, 'Los Angeles - Highland Park', 194.0, 400.9),\n",
       " (14, 'Los Angeles - Cadillac-Corning', 29.0, 407.25),\n",
       " (136, 'Los Angeles - Wilmington', 231.0, 408.94),\n",
       " (8, 'Los Angeles - Bel Air', 35.0, 415.23),\n",
       " (23, 'Los Angeles - Cloverdale/Cochran', 61.0, 419.16),\n",
       " (76, 'Los Angeles - Mt. Washington', 102.0, 422.45),\n",
       " (116, 'Los Angeles - Valley Glen', 127.0, 423.11),\n",
       " (39, 'Los Angeles - Figueroa Park Square', 37.0, 424.26),\n",
       " (127, 'Los Angeles - Wellington Square', 21.0, 427.26),\n",
       " (83, 'Los Angeles - Palms', 188.0, 428.47),\n",
       " (29, 'Los Angeles - Eagle Rock', 172.0, 434.46),\n",
       " (113, 'Los Angeles - Tujunga', 121.0, 435.1),\n",
       " (78, 'Los Angeles - North Hollywood', 669.0, 441.81),\n",
       " (64, 'Los Angeles - Little Bangladesh', 129.0, 455.14),\n",
       " (111, 'Los Angeles - Toluca Terrace', 6.0, 459.42),\n",
       " (79, 'Los Angeles - Northridge', 321.0, 459.91),\n",
       " (137, 'Los Angeles - Wilshire Center', 232.0, 462.43),\n",
       " (45, 'Los Angeles - Hancock Park', 79.0, 463.64),\n",
       " (59, 'Los Angeles - Lake Balboa', 197.0, 466.76),\n",
       " (56, 'Los Angeles - Jefferson Park', 38.0, 470.7),\n",
       " (66, 'Los Angeles - Longwood', 21.0, 487.92),\n",
       " (25, 'Los Angeles - Crenshaw District', 68.0, 491.72),\n",
       " (55, 'Los Angeles - Hyde Park', 141.0, 494.03),\n",
       " (20, 'Los Angeles - Chatsworth', 184.0, 496.48),\n",
       " (28, 'Los Angeles - Downtown*', 137.0, 498.06),\n",
       " (57, 'Los Angeles - Koreatown', 265.0, 512.64),\n",
       " (107, 'Los Angeles - Tarzana', 160.0, 518.2),\n",
       " (7, 'Los Angeles - Baldwin Hills', 162.0, 520.48),\n",
       " (37, 'Los Angeles - Exposition Park', 240.0, 534.32),\n",
       " (16, 'Los Angeles - Carthay', 77.0, 536.1),\n",
       " (43, 'Los Angeles - Granada Hills', 312.0, 536.17),\n",
       " (34, 'Los Angeles - Elysian Valley', 55.0, 540.75),\n",
       " (65, 'Los Angeles - Little Tokyo', 17.0, 542.61),\n",
       " (138, 'Los Angeles - Winnetka', 283.0, 546.48),\n",
       " (103, 'Los Angeles - Sun Valley', 293.0, 558.28),\n",
       " (41, 'Los Angeles - Glassell Park', 181.0, 572.71),\n",
       " (75, 'Los Angeles - Mission Hills', 144.0, 596.92),\n",
       " (42, 'Los Angeles - Gramercy Place', 66.0, 613.15),\n",
       " (24, 'Los Angeles - Country Club Park', 94.0, 620.34),\n",
       " (1, 'Los Angeles - Adams-Normandie', 51.0, 621.8),\n",
       " (4, 'Los Angeles - Angelino Heights', 16.0, 639.49),\n",
       " (115, 'Los Angeles - University Park', 180.0, 655.59),\n",
       " (126, 'Los Angeles - Watts', 281.0, 658.48),\n",
       " (93, 'Los Angeles - Reseda Ranch', 31.0, 668.68),\n",
       " (124, 'Los Angeles - Victoria Park', 57.0, 678.65),\n",
       " (72, 'Los Angeles - Melrose', 545.0, 701.45),\n",
       " (77, 'Los Angeles - North Hills', 433.0, 703.21),\n",
       " (62, 'Los Angeles - Lincoln Heights', 231.0, 708.65),\n",
       " (92, 'Los Angeles - Reseda', 544.0, 710.03),\n",
       " (104, 'Los Angeles - Sunland', 146.0, 715.41),\n",
       " (49, 'Los Angeles - Harvard Heights', 130.0, 720.82),\n",
       " (118, 'Los Angeles - Van Nuys', 674.0, 723.22),\n",
       " (44, 'Los Angeles - Green Meadows', 157.0, 730.06),\n",
       " (19, 'Los Angeles - Century Palms/Cove', 247.0, 731.51),\n",
       " (15, 'Los Angeles - Canoga Park', 486.0, 744.38),\n",
       " (128, 'Los Angeles - West Adams', 207.0, 749.19),\n",
       " (11, 'Los Angeles - Boyle Heights*', 653.0, 751.58),\n",
       " (122, 'Los Angeles - Vermont Vista', 310.0, 752.68),\n",
       " (30, 'Los Angeles - East Hollywood', 221.0, 754.6),\n",
       " (26, 'Los Angeles - Crestview', 87.0, 765.31),\n",
       " (50, 'Los Angeles - Harvard Park', 293.0, 772.37),\n",
       " (40, 'Los Angeles - Florence-Firestone', 371.0, 781.96),\n",
       " (5, 'Los Angeles - Arleta', 271.0, 788.48),\n",
       " (108, 'Los Angeles - Temple-Beaudry', 312.0, 790.23),\n",
       " (120, 'Los Angeles - Vermont Knolls', 140.0, 813.95),\n",
       " (131, 'Los Angeles - West Vernon', 441.0, 822.09),\n",
       " (60, 'Los Angeles - Lakeview Terrace', 108.0, 822.36),\n",
       " (117, 'Los Angeles - Valley Village', 207.0, 837.38),\n",
       " (81, 'Los Angeles - Pacoima', 686.0, 891.15),\n",
       " (106, 'Los Angeles - Sylmar*', 772.0, 936.92),\n",
       " (52, 'Los Angeles - Historic Filipinotown', 131.0, 944.48),\n",
       " (101, 'Los Angeles - St Elmo Village', 44.0, 959.86),\n",
       " (84, 'Los Angeles - Panorama City', 731.0, 971.43),\n",
       " (100, 'Los Angeles - South Park', 369.0, 972.05),\n",
       " (17, 'Los Angeles - Central', 389.0, 997.64),\n",
       " (121, 'Los Angeles - Vermont Square', 84.0, 1097.04),\n",
       " (123, 'Los Angeles - Vernon Central', 584.0, 1123.12),\n",
       " (95, 'Los Angeles - San Pedro*', 893.0, 1144.31),\n",
       " (133, 'Los Angeles - Westlake', 703.0, 1184.4),\n",
       " (86, 'Los Angeles - Pico-Union', 531.0, 1269.06),\n",
       " (135, 'Los Angeles - Wholesale District*', 661.0, 1829.56),\n",
       " (63, 'Los Angeles - Little Armenia', 191.0, 2380.06)]"
      ]
     },
     "execution_count": 21,
     "metadata": {},
     "output_type": "execute_result"
    }
   ],
   "source": [
    "cur.execute(\"SELECT * FROM lacovid2 ORDER BY rate;\")\n",
    "cur.fetchall()"
   ]
  },
  {
   "cell_type": "code",
   "execution_count": 22,
   "metadata": {},
   "outputs": [
    {
     "data": {
      "text/plain": [
       "[(3, 'Los Angeles - Angeles National Forest', 0.0, 0.0),\n",
       " (13, 'Los Angeles - Brookside', 0.0, 0.0),\n",
       " (69, 'Los Angeles - Mandeville Canyon', 1.0, 32.01),\n",
       " (105, 'Los Angeles - Sycamore Square', 1.0, 154.56),\n",
       " (82, 'Los Angeles - Palisades Highlands', 3.0, 78.0),\n",
       " (112, 'Los Angeles - Toluca Woods', 3.0, 161.46),\n",
       " (87, 'Los Angeles - Playa Del Rey', 3.0, 93.87),\n",
       " (38, 'Los Angeles - Faircrest Heights', 4.0, 111.11),\n",
       " (91, 'Los Angeles - Regent Square', 4.0, 143.88),\n",
       " (111, 'Los Angeles - Toluca Terrace', 6.0, 459.42),\n",
       " (48, 'Los Angeles - Harbor Pines', 9.0, 373.6),\n",
       " (36, 'Los Angeles - Exposition', 9.0, 270.6),\n",
       " (125, 'Los Angeles - View Heights', 9.0, 243.64),\n",
       " (94, 'Los Angeles - Reynier Village', 10.0, 236.52),\n",
       " (96, 'Los Angeles - Shadow Hills', 11.0, 247.64),\n",
       " (114, 'Los Angeles - University Hills', 11.0, 320.79),\n",
       " (71, 'Los Angeles - Marina Peninsula', 12.0, 275.23),\n",
       " (4, 'Los Angeles - Angelino Heights', 16.0, 639.49),\n",
       " (33, 'Los Angeles - Elysian Park', 16.0, 280.11),\n",
       " (65, 'Los Angeles - Little Tokyo', 17.0, 542.61),\n",
       " (90, 'Los Angeles - Rancho Park', 18.0, 274.39),\n",
       " (58, 'Los Angeles - Lafayette Square', 18.0, 394.82),\n",
       " (68, 'Los Angeles - Manchester Square', 19.0, 222.59),\n",
       " (110, 'Los Angeles - Toluca Lake', 19.0, 218.29),\n",
       " (85, 'Los Angeles - Park La Brea', 19.0, 139.91),\n",
       " (66, 'Los Angeles - Longwood', 21.0, 487.92),\n",
       " (127, 'Los Angeles - Wellington Square', 21.0, 427.26),\n",
       " (21, 'Los Angeles - Cheviot Hills', 21.0, 228.98),\n",
       " (22, 'Los Angeles - Chinatown', 21.0, 261.81),\n",
       " (88, 'Los Angeles - Playa Vista', 23.0, 210.1),\n",
       " (14, 'Los Angeles - Cadillac-Corning', 29.0, 407.25),\n",
       " (109, 'Los Angeles - Thai Town', 30.0, 305.84),\n",
       " (93, 'Los Angeles - Reseda Ranch', 31.0, 668.68),\n",
       " (18, 'Los Angeles - Century City', 33.0, 257.97),\n",
       " (99, 'Los Angeles - South Carthay', 35.0, 330.34),\n",
       " (8, 'Los Angeles - Bel Air', 35.0, 415.23),\n",
       " (10, 'Los Angeles - Beverlywood', 37.0, 280.88),\n",
       " (39, 'Los Angeles - Figueroa Park Square', 37.0, 424.26),\n",
       " (9, 'Los Angeles - Beverly Crest', 37.0, 295.41),\n",
       " (56, 'Los Angeles - Jefferson Park', 38.0, 470.7),\n",
       " (74, 'Los Angeles - Miracle Mile', 41.0, 227.97),\n",
       " (31, 'Los Angeles - Echo Park', 44.0, 308.64),\n",
       " (101, 'Los Angeles - St Elmo Village', 44.0, 959.86),\n",
       " (2, 'Los Angeles - Alsace', 47.0, 377.66),\n",
       " (6, 'Los Angeles - Atwater Village', 51.0, 347.74),\n",
       " (67, 'Los Angeles - Los Feliz', 51.0, 236.02),\n",
       " (1, 'Los Angeles - Adams-Normandie', 51.0, 621.8),\n",
       " (80, 'Los Angeles - Pacific Palisades', 55.0, 258.33),\n",
       " (34, 'Los Angeles - Elysian Valley', 55.0, 540.75),\n",
       " (61, 'Los Angeles - Leimert Park', 56.0, 367.57),\n",
       " (73, 'Los Angeles - Mid-city', 56.0, 372.59),\n",
       " (124, 'Los Angeles - Victoria Park', 57.0, 678.65),\n",
       " (23, 'Los Angeles - Cloverdale/Cochran', 61.0, 419.16),\n",
       " (119, 'Los Angeles - Venice', 65.0, 191.83),\n",
       " (42, 'Los Angeles - Gramercy Place', 66.0, 613.15),\n",
       " (134, 'Los Angeles - Westwood', 67.0, 123.82),\n",
       " (25, 'Los Angeles - Crenshaw District', 68.0, 491.72),\n",
       " (27, 'Los Angeles - Del Rey', 74.0, 247.19),\n",
       " (102, 'Los Angeles - Studio City', 77.0, 343.14),\n",
       " (16, 'Los Angeles - Carthay', 77.0, 536.1),\n",
       " (12, 'Los Angeles - Brentwood', 78.0, 251.98),\n",
       " (130, 'Los Angeles - West Los Angeles', 79.0, 209.91),\n",
       " (45, 'Los Angeles - Hancock Park', 79.0, 463.64),\n",
       " (70, 'Los Angeles - Mar Vista', 80.0, 188.36),\n",
       " (54, 'Los Angeles - Hollywood Hills', 81.0, 275.19),\n",
       " (121, 'Los Angeles - Vermont Square', 84.0, 1097.04),\n",
       " (26, 'Los Angeles - Crestview', 87.0, 765.31),\n",
       " (89, 'Los Angeles - Porter Ranch', 89.0, 250.08),\n",
       " (132, 'Los Angeles - Westchester', 92.0, 178.28),\n",
       " (46, 'Los Angeles - Harbor City', 93.0, 319.92),\n",
       " (24, 'Los Angeles - Country Club Park', 94.0, 620.34),\n",
       " (76, 'Los Angeles - Mt. Washington', 102.0, 422.45),\n",
       " (60, 'Los Angeles - Lakeview Terrace', 108.0, 822.36),\n",
       " (113, 'Los Angeles - Tujunga', 121.0, 435.1),\n",
       " (35, 'Los Angeles - Encino', 124.0, 274.51),\n",
       " (116, 'Los Angeles - Valley Glen', 127.0, 423.11),\n",
       " (64, 'Los Angeles - Little Bangladesh', 129.0, 455.14),\n",
       " (49, 'Los Angeles - Harvard Heights', 130.0, 720.82),\n",
       " (52, 'Los Angeles - Historic Filipinotown', 131.0, 944.48),\n",
       " (47, 'Los Angeles - Harbor Gateway', 131.0, 300.46),\n",
       " (129, 'Los Angeles - West Hills', 133.0, 328.03),\n",
       " (28, 'Los Angeles - Downtown*', 137.0, 498.06),\n",
       " (120, 'Los Angeles - Vermont Knolls', 140.0, 813.95),\n",
       " (55, 'Los Angeles - Hyde Park', 141.0, 494.03),\n",
       " (75, 'Los Angeles - Mission Hills', 144.0, 596.92),\n",
       " (104, 'Los Angeles - Sunland', 146.0, 715.41),\n",
       " (139, 'Los Angeles - Woodland Hills', 157.0, 230.7),\n",
       " (44, 'Los Angeles - Green Meadows', 157.0, 730.06),\n",
       " (32, 'Los Angeles - El Sereno', 160.0, 382.7),\n",
       " (107, 'Los Angeles - Tarzana', 160.0, 518.2),\n",
       " (7, 'Los Angeles - Baldwin Hills', 162.0, 520.48),\n",
       " (29, 'Los Angeles - Eagle Rock', 172.0, 434.46),\n",
       " (98, 'Los Angeles - Silverlake', 176.0, 399.25),\n",
       " (115, 'Los Angeles - University Park', 180.0, 655.59),\n",
       " (41, 'Los Angeles - Glassell Park', 181.0, 572.71),\n",
       " (20, 'Los Angeles - Chatsworth', 184.0, 496.48),\n",
       " (83, 'Los Angeles - Palms', 188.0, 428.47),\n",
       " (63, 'Los Angeles - Little Armenia', 191.0, 2380.06),\n",
       " (51, 'Los Angeles - Highland Park', 194.0, 400.9),\n",
       " (59, 'Los Angeles - Lake Balboa', 197.0, 466.76),\n",
       " (128, 'Los Angeles - West Adams', 207.0, 749.19),\n",
       " (117, 'Los Angeles - Valley Village', 207.0, 837.38),\n",
       " (30, 'Los Angeles - East Hollywood', 221.0, 754.6),\n",
       " (97, 'Los Angeles - Sherman Oaks', 224.0, 256.72),\n",
       " (136, 'Los Angeles - Wilmington', 231.0, 408.94),\n",
       " (62, 'Los Angeles - Lincoln Heights', 231.0, 708.65),\n",
       " (137, 'Los Angeles - Wilshire Center', 232.0, 462.43),\n",
       " (37, 'Los Angeles - Exposition Park', 240.0, 534.32),\n",
       " (19, 'Los Angeles - Century Palms/Cove', 247.0, 731.51),\n",
       " (57, 'Los Angeles - Koreatown', 265.0, 512.64),\n",
       " (53, 'Los Angeles - Hollywood', 268.0, 392.65),\n",
       " (5, 'Los Angeles - Arleta', 271.0, 788.48),\n",
       " (126, 'Los Angeles - Watts', 281.0, 658.48),\n",
       " (138, 'Los Angeles - Winnetka', 283.0, 546.48),\n",
       " (103, 'Los Angeles - Sun Valley', 293.0, 558.28),\n",
       " (50, 'Los Angeles - Harvard Park', 293.0, 772.37),\n",
       " (122, 'Los Angeles - Vermont Vista', 310.0, 752.68),\n",
       " (43, 'Los Angeles - Granada Hills', 312.0, 536.17),\n",
       " (108, 'Los Angeles - Temple-Beaudry', 312.0, 790.23),\n",
       " (79, 'Los Angeles - Northridge', 321.0, 459.91),\n",
       " (100, 'Los Angeles - South Park', 369.0, 972.05),\n",
       " (40, 'Los Angeles - Florence-Firestone', 371.0, 781.96),\n",
       " (17, 'Los Angeles - Central', 389.0, 997.64),\n",
       " (77, 'Los Angeles - North Hills', 433.0, 703.21),\n",
       " (131, 'Los Angeles - West Vernon', 441.0, 822.09),\n",
       " (15, 'Los Angeles - Canoga Park', 486.0, 744.38),\n",
       " (86, 'Los Angeles - Pico-Union', 531.0, 1269.06),\n",
       " (92, 'Los Angeles - Reseda', 544.0, 710.03),\n",
       " (72, 'Los Angeles - Melrose', 545.0, 701.45),\n",
       " (123, 'Los Angeles - Vernon Central', 584.0, 1123.12),\n",
       " (11, 'Los Angeles - Boyle Heights*', 653.0, 751.58),\n",
       " (135, 'Los Angeles - Wholesale District*', 661.0, 1829.56),\n",
       " (78, 'Los Angeles - North Hollywood', 669.0, 441.81),\n",
       " (118, 'Los Angeles - Van Nuys', 674.0, 723.22),\n",
       " (81, 'Los Angeles - Pacoima', 686.0, 891.15),\n",
       " (133, 'Los Angeles - Westlake', 703.0, 1184.4),\n",
       " (84, 'Los Angeles - Panorama City', 731.0, 971.43),\n",
       " (106, 'Los Angeles - Sylmar*', 772.0, 936.92),\n",
       " (95, 'Los Angeles - San Pedro*', 893.0, 1144.31)]"
      ]
     },
     "execution_count": 22,
     "metadata": {},
     "output_type": "execute_result"
    }
   ],
   "source": [
    "cur.execute(\"SELECT * FROM lacovid2 ORDER BY cases;\")\n",
    "cur.fetchall()"
   ]
  },
  {
   "cell_type": "code",
   "execution_count": 23,
   "metadata": {},
   "outputs": [
    {
     "data": {
      "text/plain": [
       "[(29, 'Los Angeles - Eagle Rock', 172.0, 434.46)]"
      ]
     },
     "execution_count": 23,
     "metadata": {},
     "output_type": "execute_result"
    }
   ],
   "source": [
    "cur.execute(\"SELECT * FROM lacovid2 WHERE city = 'Los Angeles - Eagle Rock';\")\n",
    "cur.fetchall()"
   ]
  },
  {
   "cell_type": "code",
   "execution_count": 24,
   "metadata": {},
   "outputs": [],
   "source": [
    "conn.commit()\n",
    "cur.close()\n",
    "conn.close()"
   ]
  }
 ],
 "metadata": {
  "kernelspec": {
   "display_name": "Python 3",
   "language": "python",
   "name": "python3"
  },
  "language_info": {
   "codemirror_mode": {
    "name": "ipython",
    "version": 3
   },
   "file_extension": ".py",
   "mimetype": "text/x-python",
   "name": "python",
   "nbconvert_exporter": "python",
   "pygments_lexer": "ipython3",
   "version": "3.7.7"
  }
 },
 "nbformat": 4,
 "nbformat_minor": 4
}
